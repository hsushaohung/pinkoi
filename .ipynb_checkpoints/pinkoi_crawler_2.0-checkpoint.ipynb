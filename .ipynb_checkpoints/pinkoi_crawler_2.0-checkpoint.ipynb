{
 "cells": [
  {
   "cell_type": "code",
   "execution_count": 56,
   "metadata": {},
   "outputs": [],
   "source": [
    "import cmd\n",
    "import requests\n",
    "import re\n",
    "import json\n",
    "import csv\n",
    "from bs4 import BeautifulSoup\n",
    "from datetime import datetime\n",
    "from concurrent.futures import ThreadPoolExecutor, wait, ProcessPoolExecutor\n",
    "\n",
    "DOMAIN = \"https://www.pinkoi.com\"\n",
    "STYLE_LIST = ['cute','minimal','romantic','neutral','vintage','zakka','urban','zen','green']"
   ]
  },
  {
   "cell_type": "code",
   "execution_count": 49,
   "metadata": {},
   "outputs": [],
   "source": [
    "def crawl_comments(product_info):\n",
    "    product_url = DOMAIN + product_info[\"url\"]\n",
    "    html_text = requests.get(product_url).text\n",
    "    soup = BeautifulSoup(html_text,\"html5lib\")\n",
    "\n",
    "    tid = re.findall('/product/(.{8})',html_text)[0]\n",
    "\n",
    "    sssid = (soup.select_one(\"span.store-link-wrap > a\")).attrs[\"href\"]\n",
    "    ssid = re.findall('/store/(.*)',sssid)\n",
    "    sid = ssid[0]\n",
    "\n",
    "    comments_url = \"https://www.pinkoi.com/apiv2/review/get?tid=%s&makeup_by_sid=%s&limit=20\"%(tid,sid)\n",
    "\n",
    "    comments_text = requests.get(comments_url).text\n",
    "\n",
    "    js = json.loads(comments_text)\n",
    "\n",
    "    comments_list = []\n",
    "    for comment in js['result']:\n",
    "        comment_dict = {}\n",
    "        comment_dict['id'] = comment['owner_nick']\n",
    "        comment_dict['comment'] = comment['description']\n",
    "        comment_dict['score'] = comment['score']\n",
    "        comments_list.append(comment_dict)\n",
    "    return comments_list"
   ]
  },
  {
   "cell_type": "code",
   "execution_count": 50,
   "metadata": {},
   "outputs": [],
   "source": [
    "def crawl_list(category_url,style,page):    \n",
    "    product_list = []\n",
    "    html_text = requests.get('%s&style=%s&page=%s'%(category_url,style,page)).text\n",
    "    soup = BeautifulSoup(html_text,'html5lib')\n",
    "    if (re.findall('class=\"m-filter-empty-result-wrapper\"',html_text)):\n",
    "        return \"end\"\n",
    "    elif ((soup.select('div.g_grid_items > div.items') == [])):\n",
    "        return \"end\"\n",
    "    elif (not re.findall('class=\"m-filter-empty-result-wrapper\"',html_text)) & (not (soup.select('div.g_grid_items > div.items') == [])):\n",
    "        urls = re.findall('div class=\"title\"><a href=\"(/product/.*)?\\?category',html_text)\n",
    "        for url in urls:\n",
    "            product_list.append({\"url\":url,\"style\":style})\n",
    "        for product_info in product_list:\n",
    "            crawl_product(product_info)\n",
    "        return \"go\"\n",
    "    "
   ]
  },
  {
   "cell_type": "code",
   "execution_count": 51,
   "metadata": {},
   "outputs": [],
   "source": [
    "def crawl_product(product_info):\n",
    "\n",
    "    product_url = DOMAIN + product_info[\"url\"]\n",
    "\n",
    "    html_text = requests.get(product_url).text\n",
    "\n",
    "    product_dict = {}\n",
    "    soup = BeautifulSoup(html_text,\"html5lib\")\n",
    "\n",
    "    product_dict['style'] = product_info[\"style\"]\n",
    "    product_dict['title'] = soup.find('span',{\"data-translate\":\"title\"}).text\n",
    "    product_dict['price'] = soup.select_one('span.amount').text\n",
    "    product_dict['brand'] = soup.select_one('span.store-link-wrap > a').text\n",
    "    if re.findall(r'<a href=\"/browse\\?category=\\d+&subcategory=\\d+\">(.*?)</a>',html_text):\n",
    "        product_dict['category'] = re.findall(r'<a href=\"/browse\\?category=\\d+&subcategory=\\d+\">(.*?)</a>',html_text)[0]\n",
    "    else:\n",
    "        product_dict['category'] = \"no info\"\n",
    "    if re.findall(r'<a href=\"/browse\\?category=\\d+&subcategory=\\d+&material=\\d+\">(.*?)</a>',html_text):\n",
    "        product_dict['material'] = re.findall(r'<a href=\"/browse\\?category=\\d+&subcategory=\\d+&material=\\d+\">(.*?)</a>',html_text)[0]\n",
    "    else:\n",
    "        product_dict['material'] = \"no info\"\n",
    "    product_dict['description'] = soup.select_one('div.m-richtext').text\n",
    "    if re.findall(r'被欣賞 (\\d+)',soup.select_one('div.box > ul > li').text.replace(',','')):\n",
    "        product_dict['view_count'] = re.findall(r'被欣賞 (\\d+)',soup.select_one('div.box > ul > li').text.replace(',',''))[0]\n",
    "    else:\n",
    "        product_dict['view_count'] = \"0\"\n",
    "    product_dict['comments'] = crawl_comments(product_info)\n",
    "\n",
    "    writer.writerow(product_dict)\n",
    "    f.flush()\n",
    "    \n",
    "    print(\"crawled \"+product_url)\n",
    "\n",
    "    "
   ]
  },
  {
   "cell_type": "code",
   "execution_count": 52,
   "metadata": {},
   "outputs": [
    {
     "ename": "NameError",
     "evalue": "name 'writer' is not defined",
     "output_type": "error",
     "traceback": [
      "\u001b[0;31m---------------------------------------------------------------------------\u001b[0m",
      "\u001b[0;31mNameError\u001b[0m                                 Traceback (most recent call last)",
      "\u001b[0;32m<ipython-input-52-3a3ccfa222b7>\u001b[0m in \u001b[0;36m<module>\u001b[0;34m()\u001b[0m\n\u001b[0;32m----> 1\u001b[0;31m \u001b[0mcrawl_list\u001b[0m\u001b[0;34m(\u001b[0m\u001b[0;34m\"https://www.pinkoi.com/browse/?category=9&subcategory=903\"\u001b[0m\u001b[0;34m,\u001b[0m\u001b[0mSTYLE_LIST\u001b[0m\u001b[0;34m[\u001b[0m\u001b[0;36m4\u001b[0m\u001b[0;34m]\u001b[0m\u001b[0;34m,\u001b[0m\u001b[0;36m1\u001b[0m\u001b[0;34m)\u001b[0m\u001b[0;34m\u001b[0m\u001b[0m\n\u001b[0m",
      "\u001b[0;32m<ipython-input-50-9906fe66a017>\u001b[0m in \u001b[0;36mcrawl_list\u001b[0;34m(category_url, style, page)\u001b[0m\n\u001b[1;32m     12\u001b[0m             \u001b[0mproduct_list\u001b[0m\u001b[0;34m.\u001b[0m\u001b[0mappend\u001b[0m\u001b[0;34m(\u001b[0m\u001b[0;34m{\u001b[0m\u001b[0;34m\"url\"\u001b[0m\u001b[0;34m:\u001b[0m\u001b[0murl\u001b[0m\u001b[0;34m,\u001b[0m\u001b[0;34m\"style\"\u001b[0m\u001b[0;34m:\u001b[0m\u001b[0mstyle\u001b[0m\u001b[0;34m}\u001b[0m\u001b[0;34m)\u001b[0m\u001b[0;34m\u001b[0m\u001b[0m\n\u001b[1;32m     13\u001b[0m         \u001b[0;32mfor\u001b[0m \u001b[0mproduct_info\u001b[0m \u001b[0;32min\u001b[0m \u001b[0mproduct_list\u001b[0m\u001b[0;34m:\u001b[0m\u001b[0;34m\u001b[0m\u001b[0m\n\u001b[0;32m---> 14\u001b[0;31m             \u001b[0mcrawl_product\u001b[0m\u001b[0;34m(\u001b[0m\u001b[0mproduct_info\u001b[0m\u001b[0;34m)\u001b[0m\u001b[0;34m\u001b[0m\u001b[0m\n\u001b[0m\u001b[1;32m     15\u001b[0m         \u001b[0;32mreturn\u001b[0m \u001b[0;34m\"go\"\u001b[0m\u001b[0;34m\u001b[0m\u001b[0m\n\u001b[1;32m     16\u001b[0m \u001b[0;34m\u001b[0m\u001b[0m\n",
      "\u001b[0;32m<ipython-input-51-61a8bcbaa147>\u001b[0m in \u001b[0;36mcrawl_product\u001b[0;34m(product_info)\u001b[0m\n\u001b[1;32m     27\u001b[0m     \u001b[0mproduct_dict\u001b[0m\u001b[0;34m[\u001b[0m\u001b[0;34m'comments'\u001b[0m\u001b[0;34m]\u001b[0m \u001b[0;34m=\u001b[0m \u001b[0mcrawl_comments\u001b[0m\u001b[0;34m(\u001b[0m\u001b[0mproduct_info\u001b[0m\u001b[0;34m)\u001b[0m\u001b[0;34m\u001b[0m\u001b[0m\n\u001b[1;32m     28\u001b[0m \u001b[0;34m\u001b[0m\u001b[0m\n\u001b[0;32m---> 29\u001b[0;31m     \u001b[0mwriter\u001b[0m\u001b[0;34m.\u001b[0m\u001b[0mwriterow\u001b[0m\u001b[0;34m(\u001b[0m\u001b[0mproduct_dict\u001b[0m\u001b[0;34m)\u001b[0m\u001b[0;34m\u001b[0m\u001b[0m\n\u001b[0m\u001b[1;32m     30\u001b[0m     \u001b[0mf\u001b[0m\u001b[0;34m.\u001b[0m\u001b[0mflush\u001b[0m\u001b[0;34m(\u001b[0m\u001b[0;34m)\u001b[0m\u001b[0;34m\u001b[0m\u001b[0m\n\u001b[1;32m     31\u001b[0m \u001b[0;34m\u001b[0m\u001b[0m\n",
      "\u001b[0;31mNameError\u001b[0m: name 'writer' is not defined"
     ]
    }
   ],
   "source": [
    "crawl_list(\"https://www.pinkoi.com/browse/?category=9&subcategory=903\",STYLE_LIST[4],1)"
   ]
  },
  {
   "cell_type": "code",
   "execution_count": 58,
   "metadata": {},
   "outputs": [
    {
     "name": "stdout",
     "output_type": "stream",
     "text": [
      "crawled https://www.pinkoi.com/product/h1NsVpbu\n",
      "crawled https://www.pinkoi.com/product/iMYYa3SA\n",
      "crawled https://www.pinkoi.com/product/xT8zBSqP\n",
      "crawled https://www.pinkoi.com/product/1o9wg5sk\n",
      "crawled https://www.pinkoi.com/product/1jLmD-Ym\n",
      "crawled https://www.pinkoi.com/product/1zDz-SFe\n",
      "crawled https://www.pinkoi.com/product/1hgh2-zt\n",
      "crawled https://www.pinkoi.com/product/1Vl052iP\n",
      "crawled https://www.pinkoi.com/product/14UcScEU\n",
      "crawled https://www.pinkoi.com/product/fD4hDRXt\n",
      "crawled https://www.pinkoi.com/product/4fArQiQy\n",
      "crawled https://www.pinkoi.com/product/JUHHKkRS\n",
      "crawled https://www.pinkoi.com/product/TU27Rwkh\n",
      "crawled https://www.pinkoi.com/product/w2d7jzTs\n",
      "crawled https://www.pinkoi.com/product/naKoaZMx\n",
      "crawled https://www.pinkoi.com/product/pJR7jwKW\n",
      "crawled https://www.pinkoi.com/product/MvUd56jd\n",
      "crawled https://www.pinkoi.com/product/fk4zNp3k\n",
      "spent 0:00:55\n"
     ]
    }
   ],
   "source": [
    "start_time = datetime.now()\n",
    "category_url = 'https://www.pinkoi.com/browse/?category=9&subcategory=903'\n",
    "category_num = re.findall('\\?category=(\\d+)',category_url)\n",
    "subcategory_num = re.findall('subcategory=(\\d+)',category_url)\n",
    "with open('pinkoi_%s_%s.csv'%(category_num[0],subcategory_num[0]),'w') as f:\n",
    "    headers = ['title', 'price', 'category', 'material','brand','description','view_count','comments','style']\n",
    "    writer = csv.DictWriter(f, fieldnames=headers)\n",
    "    writer.writeheader()\n",
    "    pool = ProcessPoolExecutor()\n",
    "    futures = []\n",
    "    for style in STYLE_LIST:\n",
    "        page_check = \"GO\"\n",
    "        page = 1\n",
    "        while (page_check != \"end\"):\n",
    "            future = pool.submit(crawl_list,category_url,style,page)\n",
    "            page_check = future.result()\n",
    "            futures.append(future)\n",
    "            page+=1\n",
    "    wait(futures)  \n",
    "end_time = datetime.now()\n",
    "time_spent = str(end_time - start_time).split(\".\")[0]\n",
    "print('spent %s'%time_spent)"
   ]
  },
  {
   "cell_type": "code",
   "execution_count": 47,
   "metadata": {},
   "outputs": [
    {
     "data": {
      "text/plain": [
       "True"
      ]
     },
     "execution_count": 47,
     "metadata": {},
     "output_type": "execute_result"
    }
   ],
   "source": [
    "a =1\n",
    "a!=2"
   ]
  }
 ],
 "metadata": {
  "kernelspec": {
   "display_name": "Python 3",
   "language": "python",
   "name": "python3"
  },
  "language_info": {
   "codemirror_mode": {
    "name": "ipython",
    "version": 3
   },
   "file_extension": ".py",
   "mimetype": "text/x-python",
   "name": "python",
   "nbconvert_exporter": "python",
   "pygments_lexer": "ipython3",
   "version": "3.6.1"
  }
 },
 "nbformat": 4,
 "nbformat_minor": 2
}
