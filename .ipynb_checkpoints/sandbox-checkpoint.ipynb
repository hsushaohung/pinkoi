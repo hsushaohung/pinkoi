{
 "cells": [
  {
   "cell_type": "code",
   "execution_count": 2,
   "metadata": {},
   "outputs": [],
   "source": [
    "with open('pinkoi.txt', mode='r') as f:\n",
    "    js = json.load(f)\n",
    "js"
   ]
  },
  {
   "cell_type": "code",
   "execution_count": 8,
   "metadata": {},
   "outputs": [],
   "source": [
    "def aaa(a,b) :\n",
    "    a = a + 1\n",
    "    b = b + 10\n",
    "    time.sleep(3)\n",
    "    return (a,b)"
   ]
  },
  {
   "cell_type": "code",
   "execution_count": 6,
   "metadata": {},
   "outputs": [
    {
     "name": "stdout",
     "output_type": "stream",
     "text": [
      "[1, 2, 3, 4, 5]\n",
      "0:00:03\n"
     ]
    }
   ],
   "source": [
    "start = datetime.now()\n",
    "x = []\n",
    "futures = []\n",
    "for i in range(5):\n",
    "    futures.append(pool.submit(bbb,x,i))\n",
    "wait(futures)\n",
    "print(x)\n",
    "end = datetime.now()\n",
    "time_spent = str(end - start).split('.')[0]\n",
    "print(time_spent)"
   ]
  },
  {
   "cell_type": "code",
   "execution_count": 4,
   "metadata": {},
   "outputs": [],
   "source": [
    "def bbb(a,i) :\n",
    "    i+=1\n",
    "    a.append(i)\n",
    "    time.sleep(3)\n",
    "    return i"
   ]
  },
  {
   "cell_type": "code",
   "execution_count": 66,
   "metadata": {},
   "outputs": [
    {
     "name": "stdout",
     "output_type": "stream",
     "text": [
      "[0]\n",
      "[0, 1]\n",
      "[0, 1, 2]\n",
      "[0, 1, 2, 3]\n",
      "[0, 1, 2, 3, 4]\n",
      "0:00:15\n"
     ]
    },
    {
     "data": {
      "text/plain": [
       "[0, 1, 2, 3, 4]"
      ]
     },
     "execution_count": 66,
     "metadata": {},
     "output_type": "execute_result"
    }
   ],
   "source": [
    "start = datetime.now()\n",
    "x = []\n",
    "for i in range(5):    \n",
    "    bbb(x,i)\n",
    "    print (x)\n",
    "end = datetime.now()\n",
    "time_spent = str(end - start).split('.')[0]\n",
    "print(time_spent)\n",
    "x"
   ]
  },
  {
   "cell_type": "code",
   "execution_count": 7,
   "metadata": {},
   "outputs": [
    {
     "name": "stdout",
     "output_type": "stream",
     "text": [
      "[1, 1, 2, 2, 3, 3, 4, 4, 5, 5]\n",
      "0:00:15\n"
     ]
    }
   ],
   "source": [
    "start = datetime.now()\n",
    "x = []\n",
    "futures = []\n",
    "i = 0\n",
    "while i < 5:\n",
    "    futures.append(pool.submit(bbb,x,i))\n",
    "    i = (pool.submit(bbb,x,i)).result()\n",
    "wait(futures)\n",
    "print(x)\n",
    "end = datetime.now()\n",
    "time_spent = str(end - start).split('.')[0]\n",
    "print(time_spent)"
   ]
  },
  {
   "cell_type": "code",
   "execution_count": 12,
   "metadata": {},
   "outputs": [],
   "source": [
    "url = 'https://www.pinkoi.com/browse/?category=9&subcategory=903&style=cute'\n",
    "from bs4 import BeautifulSoup\n",
    "import re\n",
    "import requests\n",
    "\n",
    "html_text = requests.get(url).text\n",
    "soup = BeautifulSoup(html_text,'html5lib')"
   ]
  },
  {
   "cell_type": "code",
   "execution_count": 38,
   "metadata": {},
   "outputs": [],
   "source": [
    "import json\n",
    "url_style_count = \"https://www.pinkoi.com/apiv2/match?category=9&subcategory=903\"\n",
    "style_html_text = requests.get(urlaa).text\n",
    "js = json.loads(style_html_text)\n",
    "style_terms = js[\"result\"][0][\"facets\"][\"style\"][\"terms\"]"
   ]
  },
  {
   "cell_type": "code",
   "execution_count": 39,
   "metadata": {},
   "outputs": [
    {
     "data": {
      "text/plain": [
       "1"
      ]
     },
     "execution_count": 39,
     "metadata": {},
     "output_type": "execute_result"
    }
   ],
   "source": [
    "((style_terms[0][\"count\"])//60+1)"
   ]
  },
  {
   "cell_type": "code",
   "execution_count": 40,
   "metadata": {},
   "outputs": [
    {
     "data": {
      "text/plain": [
       "[{'count': 8, 'name': '可愛', 'term': 'cute'},\n",
       " {'count': 6, 'name': '復古', 'term': 'vintage'},\n",
       " {'count': 3, 'name': '簡約', 'term': 'minimal'},\n",
       " {'count': 1, 'name': '中性', 'term': 'neutral'}]"
      ]
     },
     "execution_count": 40,
     "metadata": {},
     "output_type": "execute_result"
    }
   ],
   "source": [
    "style_terms"
   ]
  },
  {
   "cell_type": "code",
   "execution_count": 69,
   "metadata": {},
   "outputs": [
    {
     "data": {
      "text/plain": [
       "{'cute': 1,\n",
       " 'green': 0,\n",
       " 'minimal': 1,\n",
       " 'neutral': 1,\n",
       " 'romantic': 0,\n",
       " 'urban': 0,\n",
       " 'vintage': 1,\n",
       " 'zakka': 0,\n",
       " 'zen': 0}"
      ]
     },
     "execution_count": 69,
     "metadata": {},
     "output_type": "execute_result"
    }
   ],
   "source": [
    "from bs4 import BeautifulSoup\n",
    "import re\n",
    "import requests\n",
    "\n",
    "url_style_count = \"https://www.pinkoi.com/apiv2/match?category=9&subcategory=903\"\n",
    "\n",
    "style_html_text = requests.get(url_style_count).text\n",
    "js = json.loads(style_html_text)\n",
    "style_terms = js[\"result\"][0][\"facets\"][\"style\"][\"terms\"]\n",
    "style_count = {'cute':0,'minimal':0,'romantic':0,'neutral':0,'vintage':0,'zakka':0,'urban':0,'zen':0,'green':0}\n",
    "for style in style_terms:\n",
    "    pages = 0\n",
    "    if ((style[\"count\"])%60 != 0):\n",
    "        pages = ((style[\"count\"])//60) + 1\n",
    "    else:\n",
    "        pages = ((style[\"count\"])//60)        \n",
    "    style_count[style[\"term\"]] = pages\n",
    "style_count"
   ]
  },
  {
   "cell_type": "code",
   "execution_count": 56,
   "metadata": {},
   "outputs": [
    {
     "data": {
      "text/plain": [
       "1"
      ]
     },
     "execution_count": 56,
     "metadata": {},
     "output_type": "execute_result"
    }
   ],
   "source": [
    "style_count['cute']"
   ]
  },
  {
   "cell_type": "code",
   "execution_count": 29,
   "metadata": {},
   "outputs": [],
   "source": [
    "import requests\n",
    "from bs4 import BeautifulSoup\n",
    "import re\n",
    "import json\n",
    "\n",
    "DOMAIN = \"https://shopee.tw\"\n",
    "url = \"https://shopee.tw/%E5%B1%85%E5%AE%B6%E7%94%9F%E6%B4%BB-cat.73?categoryName=%E5%B1%85%E5%AE%B6%E7%94%9F%E6%B4%BB&page=1\"\n",
    "\n",
    "resp = requests.get(DOMAIN)\n",
    "html_json = resp.json\n",
    "html_text = resp.text\n",
    "soup = BeautifulSoup(html_text,\"html5lib\")"
   ]
  },
  {
   "cell_type": "code",
   "execution_count": 31,
   "metadata": {},
   "outputs": [
    {
     "data": {
      "text/plain": [
       "{'Server': 'nginx', 'Date': 'Sun, 19 Nov 2017 09:26:40 GMT', 'Content-Type': 'text/html; charset=utf-8', 'Transfer-Encoding': 'chunked', 'Connection': 'keep-alive', 'Vary': 'Accept-Encoding, Cookie', 'X-Request-ID': 'L6sRrl6NG5LDNG8oW3sBD', 'Access-Control-Allow-Headers': 'Content-Type,Authorization,X-Requested-With,X-CSRFToken,If-None-Match-,X-API-SOURCE', 'Access-Control-Allow-Credentials': 'true', 'Access-Control-Allow-Origin': 'https://seller.shopee.tw', 'Access-Control-Allow-Methods': 'POST,GET,OPTIONS,PUT,DELETE', 'Set-Cookie': 'SPC_IA=-1; expires=Sat, 14-Nov-2037 09:26:40 GMT; Max-Age=630720000; Path=/, SPC_EC=-; Domain=.shopee.tw; expires=Sat, 14-Nov-2037 09:26:40 GMT; httponly; Max-Age=630720000; Path=/, SPC_F=UoONUB7DU1rZbeIe2LKrjxdiphULBIjD; Domain=.shopee.tw; expires=Sat, 14-Nov-2037 09:26:40 GMT; Max-Age=630720000; Path=/, REC_T_ID=bf9463a4-cd0b-11e7-a624-246e960f6aa8; expires=Sat, 14-Nov-2037 09:26:40 GMT; Max-Age=630720000; Path=/;HttpOnly, SPC_T_ID=\"y1bipvh/J3rtHh5M0OxVfajil+jDnKis1DLbZrljwinvGy9UmYbTO0sAj5YdxW6DVDAYUAObaSAbH4dkYHsf3mcQRC3DcBT6W/szfnLbJqY=\"; expires=Sat, 14-Nov-2037 09:26:40 GMT; Max-Age=630720000; Path=/, SPC_SI=gaotsdp1ds5eyki5c4vto7e9mhe3aew3; Domain=.shopee.tw; expires=Mon, 20-Nov-2017 09:26:40 GMT; httponly; Max-Age=86400; Path=/, SPC_U=-; Domain=.shopee.tw; expires=Sat, 14-Nov-2037 09:26:40 GMT; Max-Age=630720000; Path=/, SPC_T_IV=\"VnoSn4mcTZKnaW0f0Ozc4g==\"; expires=Sat, 14-Nov-2037 09:26:40 GMT; Max-Age=630720000; Path=/', 'Content-Encoding': 'gzip'}"
      ]
     },
     "execution_count": 31,
     "metadata": {},
     "output_type": "execute_result"
    }
   ],
   "source": [
    "resp.headers"
   ]
  },
  {
   "cell_type": "code",
   "execution_count": 32,
   "metadata": {},
   "outputs": [],
   "source": [
    "resp1 = requests.post(url,resp.headers)"
   ]
  },
  {
   "cell_type": "code",
   "execution_count": 33,
   "metadata": {},
   "outputs": [
    {
     "data": {
      "text/plain": [
       "'<!doctype html>\\n<html>\\n<head>\\n</head>\\n<body>\\n</body>\\n</html>\\n'"
      ]
     },
     "execution_count": 33,
     "metadata": {},
     "output_type": "execute_result"
    }
   ],
   "source": [
    "resp1.text"
   ]
  },
  {
   "cell_type": "code",
   "execution_count": 10,
   "metadata": {},
   "outputs": [
    {
     "name": "stdout",
     "output_type": "stream",
     "text": [
      "dump list ok\n",
      "load start\n",
      "load ok\n"
     ]
    }
   ],
   "source": [
    "import json\n",
    "with open('test.txt', mode='w') as f:\n",
    "    json.dump([], f)\n",
    "    print(\"dump list ok\")\n",
    "with open('test.txt', mode='r') as feedsjson:\n",
    "        print(\"load start\")\n",
    "        feeds = json.load(feedsjson)\n",
    "        print(\"load ok\")        \n",
    "with open('test.txt', mode='w') as feedsjson:\n",
    "    entry = {'name': 'sam', 'id': 'pk000001'}\n",
    "    feeds.append(entry)\n",
    "    json.dump(feeds, feedsjson)"
   ]
  },
  {
   "cell_type": "code",
   "execution_count": 14,
   "metadata": {},
   "outputs": [],
   "source": [
    "url_style = \"https://www.pinkoi.com/product/h1NsVpbu\"\n",
    "url_nostyle = \"https://www.pinkoi.com/product/15uYC3vM\""
   ]
  },
  {
   "cell_type": "code",
   "execution_count": 28,
   "metadata": {},
   "outputs": [
    {
     "data": {
      "text/plain": [
       "'可愛'"
      ]
     },
     "execution_count": 28,
     "metadata": {},
     "output_type": "execute_result"
    }
   ],
   "source": [
    "import requests\n",
    "from bs4 import BeautifulSoup\n",
    "import re\n",
    "\n",
    "#style_list = ['cute','minimal','romantic','neutral','vintage','zakka','urban','zen','green']\n",
    "\n",
    "\n",
    "resp = requests.get(url_style)\n",
    "html_text = resp.text\n",
    "soup = BeautifulSoup(html_text,\"html5lib\")\n",
    "\n",
    "style_tag = \"\"\n",
    "style_taglist = [\"可愛\",\"簡約\",\"浪漫\",\"中性\",\"復古\",\"都會\",\"禪風\",\"民族\",\"雜貨\"]\n",
    "tag_list = soup.select_one(\"li.tag > div.r\").text.split(\" \")\n",
    "for t in tag_list:\n",
    "    if (t in style_taglist):\n",
    "        style_tag = t\n",
    "    else:\n",
    "        pass\n",
    "style_tag"
   ]
  },
  {
   "cell_type": "code",
   "execution_count": 22,
   "metadata": {},
   "outputs": [
    {
     "data": {
      "text/plain": [
       "'台灣'"
      ]
     },
     "execution_count": 22,
     "metadata": {},
     "output_type": "execute_result"
    }
   ],
   "source": [
    "soup.select_one(\"li.tag > div.r\").text.split(\" \")[0]"
   ]
  },
  {
   "cell_type": "code",
   "execution_count": 46,
   "metadata": {},
   "outputs": [],
   "source": [
    "def crawl_comments():\n",
    "    product_url = \"https://www.pinkoi.com/product/s42z1IzP\"\n",
    "    html_text = requests.get(product_url).text\n",
    "    soup = BeautifulSoup(html_text,\"html5lib\")\n",
    "\n",
    "    tid = re.findall('/product/(.{8})',html_text)[0]\n",
    "\n",
    "    sssid = (soup.select_one(\"span.store-link-wrap > a\")).attrs[\"href\"]\n",
    "    ssid = re.findall('/store/(.*)',sssid)\n",
    "    sid = ssid[0]\n",
    "\n",
    "    comments_url = \"https://www.pinkoi.com/apiv2/review/get?tid=%s&makeup_by_sid=%s&limit=20\"%(tid,sid)\n",
    "\n",
    "    comments_text = requests.get(comments_url).text\n",
    "\n",
    "    js = json.loads(comments_text)\n",
    "\n",
    "    comments_list = []\n",
    "    for comment in js['result']:\n",
    "        comment_dict = {}\n",
    "        comment_dict['user_id'] = comment['owner_nick']\n",
    "        comment_dict['comment'] = comment['description']\n",
    "        comment_dict['score'] = comment['score']\n",
    "        comments_list.append(comment_dict)\n",
    "    return comments_list"
   ]
  },
  {
   "cell_type": "code",
   "execution_count": 47,
   "metadata": {},
   "outputs": [],
   "source": [
    "def crawl_product():\n",
    "\n",
    "    product_url = \"https://www.pinkoi.com/product/s42z1IzP\"\n",
    "\n",
    "    html_text = requests.get(product_url).text\n",
    "\n",
    "    product_dict = {}\n",
    "    soup = BeautifulSoup(html_text,\"html5lib\")\n",
    "    \n",
    "    style_tag = \"\"\n",
    "    style_taglist = [\"可愛\",\"簡約\",\"浪漫\",\"中性\",\"復古\",\"都會\",\"禪風\",\"民族\",\"雜貨\"]\n",
    "    tag_list = soup.select_one(\"li.tag > div.r\").text.split(\" \")\n",
    "    for t in tag_list:\n",
    "        if (t in style_taglist):\n",
    "            style_tag = t\n",
    "        else:\n",
    "            pass\n",
    "    product_dict['style'] = style_tag\n",
    "    \n",
    "    product_dict['title'] = soup.find('span',{\"data-translate\":\"title\"}).text\n",
    "    product_dict['price'] = (soup.select_one('span.amount').text).replace(\",\",\"\")\n",
    "    product_dict['brand'] = soup.select_one('span.store-link-wrap > a').text\n",
    "    if re.findall(r'<a href=\"/browse\\?category=\\d+&subcategory=\\d+\">(.*?)</a>',html_text):\n",
    "        product_dict['category'] = re.findall(r'<a href=\"/browse\\?category=\\d+&subcategory=\\d+\">(.*?)</a>',html_text)[0]\n",
    "    else:\n",
    "        product_dict['category'] = \"no info\"\n",
    "    if re.findall(r'<a href=\"/browse\\?category=\\d+&subcategory=\\d+&material=\\d+\">(.*?)</a>',html_text):\n",
    "        product_dict['material'] = re.findall(r'<a href=\"/browse\\?category=\\d+&subcategory=\\d+&material=\\d+\">(.*?)</a>',html_text)[0]\n",
    "    else:\n",
    "        product_dict['material'] = \"no info\"\n",
    "    product_dict['description'] = soup.select_one('div.m-richtext').text\n",
    "    if re.findall(r'被欣賞 (\\d+)',soup.select_one('div.box > ul > li').text.replace(',','')):\n",
    "        product_dict['view_count'] = re.findall(r'被欣賞 (\\d+)',soup.select_one('div.box > ul > li').text.replace(',',''))[0]\n",
    "    else:\n",
    "        product_dict['view_count'] = \"0\"\n",
    "    product_dict['comments'] = crawl_comments()\n",
    "    ta_imgs = soup.select(\"div.thumbs > img\")\n",
    "    photo_urls = []\n",
    "    for img in ta_imgs:\n",
    "        photo_urls.append((img.get(\"src\").replace(\"//\",\"\")))\n",
    "    product_dict['photo_urls'] = photo_urls\n",
    "    product_dict['url'] = product_url\n",
    "    \n",
    "    print(\"crawled \"+product_url)\n",
    "\n",
    "    return product_dict"
   ]
  },
  {
   "cell_type": "code",
   "execution_count": 48,
   "metadata": {},
   "outputs": [
    {
     "name": "stdout",
     "output_type": "stream",
     "text": [
      "crawled https://www.pinkoi.com/product/s42z1IzP\n"
     ]
    },
    {
     "data": {
      "text/plain": [
       "{'brand': 'meme',\n",
       " 'category': '其他',\n",
       " 'comments': [],\n",
       " 'description': '\\n                            そもそも“キモカワ”とは、“キモい”と“可愛い”の略語です。“キモ”とは気持ち悪いの俗語です。最近は“キモカワ”自体も俗語として普及があるようですが。一部の人々から“キモカワいい”という表現の動物達が支持されていた事実を発見し、モチーフに決定しました。memeは「キモカワ」という一部に需要のある事実と、「型染め」という一部にしか需要のない事実をアナロジカルに捉え、一部から徐々に少しずつ知名度を上げてほしいという願いを込めました。一時的な流行ではなく、長い時間をかけ、歴史をつくって欲しいと考えたからです。歴史は後に文化とよばれるでしょう。傘骨：47㎝産地/制作方法産地：日本\\u3000ハンドメイド産地/制作方法産地：日本\\u3000ハンドメイド\\n                        ',\n",
       " 'material': '棉．麻',\n",
       " 'photo_urls': ['cdn01.pinkoi.com/product/s42z1IzP/0/42x42.jpg',\n",
       "  'cdn01.pinkoi.com/product/s42z1IzP/1/42x42.jpg',\n",
       "  'cdn01.pinkoi.com/product/s42z1IzP/2/42x42.jpg',\n",
       "  'cdn01.pinkoi.com/product/s42z1IzP/3/42x42.jpg'],\n",
       " 'price': '5295',\n",
       " 'style': '可愛',\n",
       " 'title': 'meme型染生地の手作り日傘\\u3000「キモカワ」シリーズ・カエル',\n",
       " 'url': 'https://www.pinkoi.com/product/s42z1IzP',\n",
       " 'view_count': '658'}"
      ]
     },
     "execution_count": 48,
     "metadata": {},
     "output_type": "execute_result"
    }
   ],
   "source": [
    "crawl_product()"
   ]
  },
  {
   "cell_type": "code",
   "execution_count": null,
   "metadata": {},
   "outputs": [],
   "source": []
  }
 ],
 "metadata": {
  "kernelspec": {
   "display_name": "Python 3",
   "language": "python",
   "name": "python3"
  },
  "language_info": {
   "codemirror_mode": {
    "name": "ipython",
    "version": 3
   },
   "file_extension": ".py",
   "mimetype": "text/x-python",
   "name": "python",
   "nbconvert_exporter": "python",
   "pygments_lexer": "ipython3",
   "version": "3.6.1"
  }
 },
 "nbformat": 4,
 "nbformat_minor": 2
}
