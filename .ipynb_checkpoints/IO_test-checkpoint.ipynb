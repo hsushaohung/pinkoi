{
 "cells": [
  {
   "cell_type": "code",
   "execution_count": 10,
   "metadata": {},
   "outputs": [],
   "source": [
    "import cmd\n",
    "import requests\n",
    "import re\n",
    "import json\n",
    "import csv\n",
    "from bs4 import BeautifulSoup\n",
    "from datetime import datetime\n",
    "from concurrent.futures import ThreadPoolExecutor, wait, ProcessPoolExecutor\n",
    "\n",
    "DOMAIN = \"https://www.pinkoi.com\"\n",
    "STYLE_LIST = ['cute','minimal','romantic','neutral','vintage','zakka','urban','zen','green']"
   ]
  },
  {
   "cell_type": "code",
   "execution_count": 9,
   "metadata": {},
   "outputs": [],
   "source": [
    "def crawl_comments(product_info):\n",
    "    product_url = DOMAIN + product_info[\"url\"]\n",
    "    html_text = requests.get(product_url).text\n",
    "    soup = BeautifulSoup(html_text,\"html5lib\")\n",
    "\n",
    "    tid = re.findall('/product/(.{8})',html_text)[0]\n",
    "\n",
    "    sssid = (soup.select_one(\"span.store-link-wrap > a\")).attrs[\"href\"]\n",
    "    ssid = re.findall('/store/(.*)',sssid)\n",
    "    sid = ssid[0]\n",
    "\n",
    "    comments_url = \"https://www.pinkoi.com/apiv2/review/get?tid=%s&makeup_by_sid=%s&limit=20\"%(tid,sid)\n",
    "\n",
    "    comments_text = requests.get(comments_url).text\n",
    "\n",
    "    js = json.loads(comments_text)\n",
    "\n",
    "    comments_list = []\n",
    "    for comment in js['result']:\n",
    "        comment_dict = {}\n",
    "        comment_dict['id'] = comment['owner_nick']\n",
    "        comment_dict['comment'] = comment['description']\n",
    "        comment_dict['score'] = comment['score']\n",
    "        comments_list.append(comment_dict)\n",
    "    return comments_list"
   ]
  },
  {
   "cell_type": "code",
   "execution_count": 8,
   "metadata": {},
   "outputs": [],
   "source": [
    "def crawl_list(category_url,style,page,product_list):    \n",
    "    product_list = []\n",
    "    html_text = requests.get('%s&style=%s&page=%s'%(category_url,style,page)).text\n",
    "    soup = BeautifulSoup(html_text,'html5lib')\n",
    "    urls = re.findall('div class=\"title\"><a href=\"(/product/.*)?\\?category',html_text)\n",
    "    if (re.findall('class=\"m-filter-empty-result-wrapper\"',html_text)):\n",
    "        pass\n",
    "    else:\n",
    "        for url in urls:\n",
    "            product_list.append({\"url\":url,\"style\":style})\n",
    "        for product_info in product_list:\n",
    "            crawl_product(product_info,product_list)  "
   ]
  },
  {
   "cell_type": "code",
   "execution_count": 7,
   "metadata": {},
   "outputs": [],
   "source": [
    "def crawl_product(product_info,product_list):\n",
    "\n",
    "    product_url = DOMAIN + product_info[\"url\"]\n",
    "\n",
    "    html_text = requests.get(product_url).text\n",
    "\n",
    "    product_dict = {}\n",
    "    soup = BeautifulSoup(html_text,\"html5lib\")\n",
    "\n",
    "    product_dict['style'] = product_info[\"style\"]\n",
    "    product_dict['title'] = soup.find('span',{\"data-translate\":\"title\"}).text\n",
    "    product_dict['price'] = soup.select_one('span.amount').text\n",
    "    product_dict['brand'] = soup.select_one('span.store-link-wrap > a').text\n",
    "    if re.findall(r'<a href=\"/browse\\?category=\\d+&subcategory=\\d+\">(.*?)</a>',html_text):\n",
    "        product_dict['category'] = re.findall(r'<a href=\"/browse\\?category=\\d+&subcategory=\\d+\">(.*?)</a>',html_text)[0]\n",
    "    else:\n",
    "        product_dict['category'] = \"no info\"\n",
    "    if re.findall(r'<a href=\"/browse\\?category=\\d+&subcategory=\\d+&material=\\d+\">(.*?)</a>',html_text):\n",
    "        product_dict['material'] = re.findall(r'<a href=\"/browse\\?category=\\d+&subcategory=\\d+&material=\\d+\">(.*?)</a>',html_text)[0]\n",
    "    else:\n",
    "        product_dict['material'] = \"no info\"\n",
    "    product_dict['description'] = soup.select_one('div.m-richtext').text\n",
    "    if re.findall(r'被欣賞 (\\d+)',soup.select_one('div.box > ul > li').text.replace(',','')):\n",
    "        product_dict['view_count'] = re.findall(r'被欣賞 (\\d+)',soup.select_one('div.box > ul > li').text.replace(',',''))[0]\n",
    "    else:\n",
    "        product_dict['view_count'] = \"0\"\n",
    "    product_dict['comments'] = crawl_comments(product_info)\n",
    "\n",
    "    product_list.append(product_dict)\n",
    "    \n",
    "    print(\"crawled \"+product_url)"
   ]
  },
  {
   "cell_type": "code",
   "execution_count": 11,
   "metadata": {},
   "outputs": [
    {
     "name": "stdout",
     "output_type": "stream",
     "text": [
      "crawled https://www.pinkoi.com/product/h1NsVpbu\n",
      "crawled https://www.pinkoi.com/product/xT8zBSqP\n",
      "crawled https://www.pinkoi.com/product/iMYYa3SA\n",
      "crawled https://www.pinkoi.com/product/1o9wg5sk\n",
      "crawled https://www.pinkoi.com/product/1hgh2-zt\n",
      "crawled https://www.pinkoi.com/product/1zDz-SFe\n",
      "crawled https://www.pinkoi.com/product/1jLmD-Ym\n",
      "crawled https://www.pinkoi.com/product/1Vl052iP\n",
      "crawled https://www.pinkoi.com/product/14UcScEU\n",
      "crawled https://www.pinkoi.com/product/fD4hDRXt\n",
      "crawled https://www.pinkoi.com/product/4fArQiQy\n",
      "crawled https://www.pinkoi.com/product/JUHHKkRS\n",
      "crawled https://www.pinkoi.com/product/naKoaZMx\n",
      "crawled https://www.pinkoi.com/product/TU27Rwkh\n",
      "crawled https://www.pinkoi.com/product/w2d7jzTs\n",
      "crawled https://www.pinkoi.com/product/MvUd56jd\n",
      "crawled https://www.pinkoi.com/product/pJR7jwKW\n",
      "crawled https://www.pinkoi.com/product/fk4zNp3k\n",
      "spent 0:01:03\n"
     ]
    }
   ],
   "source": [
    "##main methon\n",
    "start_time = datetime.now()\n",
    "category_url = 'https://www.pinkoi.com/browse/?category=9&subcategory=903'\n",
    "category_num = re.findall('\\?category=(\\d+)',category_url)\n",
    "subcategory_num = re.findall('subcategory=(\\d+)',category_url)\n",
    "\n",
    "##get the pages of all the style in this category\n",
    "url_style_count = \"https://www.pinkoi.com/apiv2/match?category=9&subcategory=903\"\n",
    "style_html_text = requests.get(url_style_count).text\n",
    "js = json.loads(style_html_text)\n",
    "style_terms = js[\"result\"][0][\"facets\"][\"style\"][\"terms\"]\n",
    "style_count = {'cute':0,'minimal':0,'romantic':0,'neutral':0,'vintage':0,'zakka':0,'urban':0,'zen':0,'green':0}\n",
    "for style in style_terms:\n",
    "    pages = 0\n",
    "    if ((style[\"count\"])%60 != 0):\n",
    "        pages = ((style[\"count\"])//60) + 1\n",
    "    else:\n",
    "        pages = ((style[\"count\"])//60)        \n",
    "    style_count[style[\"term\"]] = pages\n",
    "style_count\n",
    "\n",
    "pool = ProcessPoolExecutor()\n",
    "futures = []\n",
    "product_list={}\n",
    "for style in STYLE_LIST:\n",
    "    for page in range(1,(style_count[\"%s\"% style]+1)):\n",
    "        future = pool.submit(crawl_list,category_url,style,page,product_list)\n",
    "        futures.append(future)\n",
    "        wait(futures)\n",
    "product_list\n",
    "end_time = datetime.now()\n",
    "time_spent = str(end_time - start_time).split(\".\")[0]\n",
    "print('spent %s'%time_spent)"
   ]
  },
  {
   "cell_type": "code",
   "execution_count": 12,
   "metadata": {},
   "outputs": [
    {
     "data": {
      "text/plain": [
       "{}"
      ]
     },
     "execution_count": 12,
     "metadata": {},
     "output_type": "execute_result"
    }
   ],
   "source": [
    "product_list"
   ]
  }
 ],
 "metadata": {
  "kernelspec": {
   "display_name": "Python 3",
   "language": "python",
   "name": "python3"
  },
  "language_info": {
   "codemirror_mode": {
    "name": "ipython",
    "version": 3
   },
   "file_extension": ".py",
   "mimetype": "text/x-python",
   "name": "python",
   "nbconvert_exporter": "python",
   "pygments_lexer": "ipython3",
   "version": "3.6.1"
  }
 },
 "nbformat": 4,
 "nbformat_minor": 2
}
