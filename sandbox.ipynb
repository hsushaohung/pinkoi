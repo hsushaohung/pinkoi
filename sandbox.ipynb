{
 "cells": [
  {
   "cell_type": "code",
   "execution_count": 2,
   "metadata": {},
   "outputs": [],
   "source": [
    "from concurrent.futures import ThreadPoolExecutor, wait\n",
    "import time\n",
    "from datetime import datetime\n",
    "\n",
    "pool = ThreadPoolExecutor()"
   ]
  },
  {
   "cell_type": "code",
   "execution_count": 8,
   "metadata": {},
   "outputs": [],
   "source": [
    "def aaa(a,b) :\n",
    "    a = a + 1\n",
    "    b = b + 10\n",
    "    time.sleep(3)\n",
    "    return (a,b)"
   ]
  },
  {
   "cell_type": "code",
   "execution_count": 6,
   "metadata": {},
   "outputs": [
    {
     "name": "stdout",
     "output_type": "stream",
     "text": [
      "[1, 2, 3, 4, 5]\n",
      "0:00:03\n"
     ]
    }
   ],
   "source": [
    "start = datetime.now()\n",
    "x = []\n",
    "futures = []\n",
    "for i in range(5):\n",
    "    futures.append(pool.submit(bbb,x,i))\n",
    "wait(futures)\n",
    "print(x)\n",
    "end = datetime.now()\n",
    "time_spent = str(end - start).split('.')[0]\n",
    "print(time_spent)"
   ]
  },
  {
   "cell_type": "code",
   "execution_count": 4,
   "metadata": {},
   "outputs": [],
   "source": [
    "def bbb(a,i) :\n",
    "    i+=1\n",
    "    a.append(i)\n",
    "    time.sleep(3)\n",
    "    return i"
   ]
  },
  {
   "cell_type": "code",
   "execution_count": 66,
   "metadata": {},
   "outputs": [
    {
     "name": "stdout",
     "output_type": "stream",
     "text": [
      "[0]\n",
      "[0, 1]\n",
      "[0, 1, 2]\n",
      "[0, 1, 2, 3]\n",
      "[0, 1, 2, 3, 4]\n",
      "0:00:15\n"
     ]
    },
    {
     "data": {
      "text/plain": [
       "[0, 1, 2, 3, 4]"
      ]
     },
     "execution_count": 66,
     "metadata": {},
     "output_type": "execute_result"
    }
   ],
   "source": [
    "start = datetime.now()\n",
    "x = []\n",
    "for i in range(5):    \n",
    "    bbb(x,i)\n",
    "    print (x)\n",
    "end = datetime.now()\n",
    "time_spent = str(end - start).split('.')[0]\n",
    "print(time_spent)\n",
    "x"
   ]
  },
  {
   "cell_type": "code",
   "execution_count": 7,
   "metadata": {},
   "outputs": [
    {
     "name": "stdout",
     "output_type": "stream",
     "text": [
      "[1, 1, 2, 2, 3, 3, 4, 4, 5, 5]\n",
      "0:00:15\n"
     ]
    }
   ],
   "source": [
    "start = datetime.now()\n",
    "x = []\n",
    "futures = []\n",
    "i = 0\n",
    "while i < 5:\n",
    "    futures.append(pool.submit(bbb,x,i))\n",
    "    i = (pool.submit(bbb,x,i)).result()\n",
    "wait(futures)\n",
    "print(x)\n",
    "end = datetime.now()\n",
    "time_spent = str(end - start).split('.')[0]\n",
    "print(time_spent)"
   ]
  },
  {
   "cell_type": "code",
   "execution_count": 12,
   "metadata": {},
   "outputs": [],
   "source": [
    "url = 'https://www.pinkoi.com/browse/?category=9&subcategory=903&style=cute'\n",
    "from bs4 import BeautifulSoup\n",
    "import re\n",
    "import requests\n",
    "\n",
    "html_text = requests.get(url).text\n",
    "soup = BeautifulSoup(html_text,'html5lib')"
   ]
  },
  {
   "cell_type": "code",
   "execution_count": 38,
   "metadata": {},
   "outputs": [],
   "source": [
    "import json\n",
    "url_style_count = \"https://www.pinkoi.com/apiv2/match?category=9&subcategory=903\"\n",
    "style_html_text = requests.get(urlaa).text\n",
    "js = json.loads(style_html_text)\n",
    "style_terms = js[\"result\"][0][\"facets\"][\"style\"][\"terms\"]"
   ]
  },
  {
   "cell_type": "code",
   "execution_count": 39,
   "metadata": {},
   "outputs": [
    {
     "data": {
      "text/plain": [
       "1"
      ]
     },
     "execution_count": 39,
     "metadata": {},
     "output_type": "execute_result"
    }
   ],
   "source": [
    "((style_terms[0][\"count\"])//60+1)"
   ]
  },
  {
   "cell_type": "code",
   "execution_count": 40,
   "metadata": {},
   "outputs": [
    {
     "data": {
      "text/plain": [
       "[{'count': 8, 'name': '可愛', 'term': 'cute'},\n",
       " {'count': 6, 'name': '復古', 'term': 'vintage'},\n",
       " {'count': 3, 'name': '簡約', 'term': 'minimal'},\n",
       " {'count': 1, 'name': '中性', 'term': 'neutral'}]"
      ]
     },
     "execution_count": 40,
     "metadata": {},
     "output_type": "execute_result"
    }
   ],
   "source": [
    "style_terms"
   ]
  },
  {
   "cell_type": "code",
   "execution_count": 69,
   "metadata": {},
   "outputs": [
    {
     "data": {
      "text/plain": [
       "{'cute': 1,\n",
       " 'green': 0,\n",
       " 'minimal': 1,\n",
       " 'neutral': 1,\n",
       " 'romantic': 0,\n",
       " 'urban': 0,\n",
       " 'vintage': 1,\n",
       " 'zakka': 0,\n",
       " 'zen': 0}"
      ]
     },
     "execution_count": 69,
     "metadata": {},
     "output_type": "execute_result"
    }
   ],
   "source": [
    "from bs4 import BeautifulSoup\n",
    "import re\n",
    "import requests\n",
    "\n",
    "url_style_count = \"https://www.pinkoi.com/apiv2/match?category=9&subcategory=903\"\n",
    "\n",
    "style_html_text = requests.get(url_style_count).text\n",
    "js = json.loads(style_html_text)\n",
    "style_terms = js[\"result\"][0][\"facets\"][\"style\"][\"terms\"]\n",
    "style_count = {'cute':0,'minimal':0,'romantic':0,'neutral':0,'vintage':0,'zakka':0,'urban':0,'zen':0,'green':0}\n",
    "for style in style_terms:\n",
    "    pages = 0\n",
    "    if ((style[\"count\"])%60 != 0):\n",
    "        pages = ((style[\"count\"])//60) + 1\n",
    "    else:\n",
    "        pages = ((style[\"count\"])//60)        \n",
    "    style_count[style[\"term\"]] = pages\n",
    "style_count"
   ]
  },
  {
   "cell_type": "code",
   "execution_count": 56,
   "metadata": {},
   "outputs": [
    {
     "data": {
      "text/plain": [
       "1"
      ]
     },
     "execution_count": 56,
     "metadata": {},
     "output_type": "execute_result"
    }
   ],
   "source": [
    "style_count['cute']"
   ]
  },
  {
   "cell_type": "code",
   "execution_count": 68,
   "metadata": {},
   "outputs": [
    {
     "name": "stdout",
     "output_type": "stream",
     "text": [
      "1\n"
     ]
    }
   ],
   "source": [
    "for i in range(1,2):\n",
    "    print(i)"
   ]
  }
 ],
 "metadata": {
  "kernelspec": {
   "display_name": "Python 3",
   "language": "python",
   "name": "python3"
  },
  "language_info": {
   "codemirror_mode": {
    "name": "ipython",
    "version": 3
   },
   "file_extension": ".py",
   "mimetype": "text/x-python",
   "name": "python",
   "nbconvert_exporter": "python",
   "pygments_lexer": "ipython3",
   "version": "3.6.1"
  }
 },
 "nbformat": 4,
 "nbformat_minor": 2
}
